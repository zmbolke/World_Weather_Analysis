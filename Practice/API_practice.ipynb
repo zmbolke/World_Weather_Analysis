{
 "cells": [
  {
   "cell_type": "code",
   "execution_count": 1,
   "id": "a895180d",
   "metadata": {},
   "outputs": [],
   "source": [
    "# Create a practice set of random latitude and longitude combinations.\n",
    "x = [25.12903645, 25.92017388, 26.62509167, -59.98969384, 37.30571269]\n",
    "y = [-67.59741259, 11.09532135, 74.84233102, -76.89176677, -61.13376282]\n",
    "coordinates = zip(x, y)"
   ]
  },
  {
   "cell_type": "code",
   "execution_count": 2,
   "id": "868baa34",
   "metadata": {},
   "outputs": [
    {
     "name": "stdout",
     "output_type": "stream",
     "text": [
      "25.12903645 -67.59741259\n",
      "25.92017388 11.09532135\n",
      "26.62509167 74.84233102\n",
      "-59.98969384 -76.89176677\n",
      "37.30571269 -61.13376282\n"
     ]
    }
   ],
   "source": [
    "# Use the tuple() function to display the latitude and longitude combinations.\n",
    "for coordinate in coordinates:\n",
    "    print(coordinate[0], coordinate[1])"
   ]
  },
  {
   "cell_type": "code",
   "execution_count": 3,
   "id": "bd484634",
   "metadata": {},
   "outputs": [],
   "source": [
    "# Import citipy\n",
    "from citipy import citipy"
   ]
  },
  {
   "cell_type": "code",
   "execution_count": 4,
   "id": "695d6b9a",
   "metadata": {},
   "outputs": [],
   "source": [
    "#Use the tuple function to display lats and longs\n",
    "for coordinate in coordinates:\n",
    "    print(citipy.nearest_city(citycoordinate[0], coordinate[1]).city_name,\n",
    "          citipy.nearest_city(coordiante[0], coordinate[1]).county_code)"
   ]
  },
  {
   "cell_type": "code",
   "execution_count": 5,
   "id": "17c543dd",
   "metadata": {},
   "outputs": [],
   "source": [
    "#IMport requests\n",
    "import requests\n",
    "#import API Key\n",
    "from config import weather_api_key"
   ]
  },
  {
   "cell_type": "code",
   "execution_count": 6,
   "id": "d5b50239",
   "metadata": {},
   "outputs": [
    {
     "name": "stdout",
     "output_type": "stream",
     "text": [
      "http://api.openweathermap.org/data/2.5/weather?units=Imperial&APPID=55d04e9a8ed87b073cec6c7df25788f3\n"
     ]
    }
   ],
   "source": [
    "#Starting URL for weather map API call\n",
    "url = \"http://api.openweathermap.org/data/2.5/weather?units=Imperial&APPID=\" + weather_api_key\n",
    "print(url)"
   ]
  },
  {
   "cell_type": "code",
   "execution_count": 7,
   "id": "1a95baf3",
   "metadata": {},
   "outputs": [
    {
     "name": "stdout",
     "output_type": "stream",
     "text": [
      "http://api.openweathermap.org/data/2.5/weather?units=Imperial&APPID=55d04e9a8ed87b073cec6c7df25788f3&q=Boston\n"
     ]
    }
   ],
   "source": [
    "#Create an endpoint\n",
    "city_url = url + \"&q=\" + \"Boston\"\n",
    "print(city_url)"
   ]
  },
  {
   "cell_type": "code",
   "execution_count": 8,
   "id": "62aa4d48",
   "metadata": {},
   "outputs": [
    {
     "data": {
      "text/plain": [
       "<Response [200]>"
      ]
     },
     "execution_count": 8,
     "metadata": {},
     "output_type": "execute_result"
    }
   ],
   "source": [
    "#Make a get request\n",
    "city_weather = requests.get(city_url)\n",
    "city_weather"
   ]
  },
  {
   "cell_type": "code",
   "execution_count": 9,
   "id": "eee95e40",
   "metadata": {},
   "outputs": [
    {
     "data": {
      "text/plain": [
       "'{\"coord\":{\"lon\":-71.0598,\"lat\":42.3584},\"weather\":[{\"id\":602,\"main\":\"Snow\",\"description\":\"heavy snow\",\"icon\":\"13d\"},{\"id\":741,\"main\":\"Fog\",\"description\":\"fog\",\"icon\":\"50d\"}],\"base\":\"stations\",\"main\":{\"temp\":17.38,\"feels_like\":9.9,\"temp_min\":12.94,\"temp_max\":21.16,\"pressure\":995,\"humidity\":90},\"visibility\":402,\"wind\":{\"speed\":5.01,\"deg\":5,\"gust\":17},\"snow\":{\"1h\":3.65},\"clouds\":{\"all\":100},\"dt\":1643487405,\"sys\":{\"type\":2,\"id\":2013408,\"country\":\"US\",\"sunrise\":1643457649,\"sunset\":1643493224},\"timezone\":-18000,\"id\":4930956,\"name\":\"Boston\",\"cod\":200}'"
      ]
     },
     "execution_count": 9,
     "metadata": {},
     "output_type": "execute_result"
    }
   ],
   "source": [
    "city_weather.text"
   ]
  },
  {
   "cell_type": "code",
   "execution_count": 11,
   "id": "49d78b14",
   "metadata": {},
   "outputs": [
    {
     "data": {
      "text/plain": [
       "{'coord': {'lon': -71.0598, 'lat': 42.3584},\n",
       " 'weather': [{'id': 602,\n",
       "   'main': 'Snow',\n",
       "   'description': 'heavy snow',\n",
       "   'icon': '13d'},\n",
       "  {'id': 741, 'main': 'Fog', 'description': 'fog', 'icon': '50d'}],\n",
       " 'base': 'stations',\n",
       " 'main': {'temp': 17.38,\n",
       "  'feels_like': 9.9,\n",
       "  'temp_min': 12.94,\n",
       "  'temp_max': 21.16,\n",
       "  'pressure': 995,\n",
       "  'humidity': 90},\n",
       " 'visibility': 402,\n",
       " 'wind': {'speed': 5.01, 'deg': 5, 'gust': 17},\n",
       " 'snow': {'1h': 3.65},\n",
       " 'clouds': {'all': 100},\n",
       " 'dt': 1643487405,\n",
       " 'sys': {'type': 2,\n",
       "  'id': 2013408,\n",
       "  'country': 'US',\n",
       "  'sunrise': 1643457649,\n",
       "  'sunset': 1643493224},\n",
       " 'timezone': -18000,\n",
       " 'id': 4930956,\n",
       " 'name': 'Boston',\n",
       " 'cod': 200}"
      ]
     },
     "execution_count": 11,
     "metadata": {},
     "output_type": "execute_result"
    }
   ],
   "source": [
    "city_weather.json()"
   ]
  },
  {
   "cell_type": "code",
   "execution_count": 12,
   "id": "03a83e3c",
   "metadata": {},
   "outputs": [
    {
     "name": "stdout",
     "output_type": "stream",
     "text": [
      "City Weather found.\n"
     ]
    }
   ],
   "source": [
    "#Create an endpoint for a city\n",
    "city_url = url + \"&q=\" + \"Boston\"\n",
    "city_weather = requests.get(city_url)\n",
    "if city_weather.status_code == 200:\n",
    "    print(f\"City Weather found.\")\n",
    "else:\n",
    "    print(f\"City weather not found.\")"
   ]
  },
  {
   "cell_type": "code",
   "execution_count": 14,
   "id": "fc8f1a6e",
   "metadata": {},
   "outputs": [
    {
     "data": {
      "text/plain": [
       "{'coord': {'lon': -71.0598, 'lat': 42.3584},\n",
       " 'weather': [{'id': 602,\n",
       "   'main': 'Snow',\n",
       "   'description': 'heavy snow',\n",
       "   'icon': '13d'},\n",
       "  {'id': 741, 'main': 'Fog', 'description': 'fog', 'icon': '50d'}],\n",
       " 'base': 'stations',\n",
       " 'main': {'temp': 17.38,\n",
       "  'feels_like': 9.9,\n",
       "  'temp_min': 12.94,\n",
       "  'temp_max': 21.16,\n",
       "  'pressure': 995,\n",
       "  'humidity': 90},\n",
       " 'visibility': 402,\n",
       " 'wind': {'speed': 5.01, 'deg': 5, 'gust': 17},\n",
       " 'snow': {'1h': 3.65},\n",
       " 'clouds': {'all': 100},\n",
       " 'dt': 1643487405,\n",
       " 'sys': {'type': 2,\n",
       "  'id': 2013408,\n",
       "  'country': 'US',\n",
       "  'sunrise': 1643457649,\n",
       "  'sunset': 1643493224},\n",
       " 'timezone': -18000,\n",
       " 'id': 4930956,\n",
       " 'name': 'Boston',\n",
       " 'cod': 200}"
      ]
     },
     "execution_count": 14,
     "metadata": {},
     "output_type": "execute_result"
    }
   ],
   "source": [
    "#Create request\n",
    "city_url = url + \"&q=\" + \"Boston\"\n",
    "city_weather = requests.get(city_url)\n",
    "city_weather.json()"
   ]
  },
  {
   "cell_type": "code",
   "execution_count": 15,
   "id": "b74afa1b",
   "metadata": {},
   "outputs": [],
   "source": [
    "boston_data = city_weather.json()"
   ]
  },
  {
   "cell_type": "code",
   "execution_count": 16,
   "id": "346fdabf",
   "metadata": {},
   "outputs": [
    {
     "name": "stdout",
     "output_type": "stream",
     "text": [
      "42.3584 -71.0598 21.16 90 100 5.01\n"
     ]
    }
   ],
   "source": [
    "lat = boston_data[\"coord\"][\"lat\"]\n",
    "lng = boston_data[\"coord\"][\"lon\"]\n",
    "max_temp = boston_data[\"main\"][\"temp_max\"]\n",
    "humidity = boston_data[\"main\"][\"humidity\"]\n",
    "clouds = boston_data[\"clouds\"][\"all\"]\n",
    "wind = boston_data[\"wind\"][\"speed\"]\n",
    "print(lat, lng, max_temp, humidity, clouds, wind)"
   ]
  },
  {
   "cell_type": "code",
   "execution_count": 19,
   "id": "cec77203",
   "metadata": {},
   "outputs": [
    {
     "data": {
      "text/plain": [
       "'22-01-29 20:16:45'"
      ]
     },
     "execution_count": 19,
     "metadata": {},
     "output_type": "execute_result"
    }
   ],
   "source": [
    "from datetime import datetime\n",
    "date = boston_data[\"dt\"]\n",
    "datetime.utcfromtimestamp(date).strftime(\"%y-%m-%d %H:%M:%S\")"
   ]
  },
  {
   "cell_type": "code",
   "execution_count": 1,
   "id": "fcbff4e4",
   "metadata": {},
   "outputs": [
    {
     "data": {
      "text/plain": [
       "1643562022.0298839"
      ]
     },
     "execution_count": 1,
     "metadata": {},
     "output_type": "execute_result"
    }
   ],
   "source": [
    "import time\n",
    "\n",
    "today = time.time()\n",
    "today"
   ]
  },
  {
   "cell_type": "code",
   "execution_count": 2,
   "id": "990b85ea",
   "metadata": {},
   "outputs": [
    {
     "data": {
      "text/plain": [
       "'01/30/22'"
      ]
     },
     "execution_count": 2,
     "metadata": {},
     "output_type": "execute_result"
    }
   ],
   "source": [
    "today = time.strftime(\"%x\")\n",
    "today"
   ]
  },
  {
   "cell_type": "code",
   "execution_count": null,
   "id": "bffceca8",
   "metadata": {},
   "outputs": [],
   "source": []
  }
 ],
 "metadata": {
  "kernelspec": {
   "display_name": "PythonData",
   "language": "python",
   "name": "pythondata"
  },
  "language_info": {
   "codemirror_mode": {
    "name": "ipython",
    "version": 3
   },
   "file_extension": ".py",
   "mimetype": "text/x-python",
   "name": "python",
   "nbconvert_exporter": "python",
   "pygments_lexer": "ipython3",
   "version": "3.7.11"
  }
 },
 "nbformat": 4,
 "nbformat_minor": 5
}
