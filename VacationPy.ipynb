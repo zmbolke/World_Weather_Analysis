{
 "cells": [
  {
   "cell_type": "code",
   "execution_count": 7,
   "id": "01b9dfec",
   "metadata": {},
   "outputs": [],
   "source": [
    "# Import the dependencies.\n",
    "import pandas as pd\n",
    "import gmaps\n",
    "import requests\n",
    "# Import the API key.\n",
    "from config import g_key"
   ]
  },
  {
   "cell_type": "code",
   "execution_count": 8,
   "id": "f3b7dafe",
   "metadata": {},
   "outputs": [
    {
     "data": {
      "text/html": [
       "<div>\n",
       "<style scoped>\n",
       "    .dataframe tbody tr th:only-of-type {\n",
       "        vertical-align: middle;\n",
       "    }\n",
       "\n",
       "    .dataframe tbody tr th {\n",
       "        vertical-align: top;\n",
       "    }\n",
       "\n",
       "    .dataframe thead th {\n",
       "        text-align: right;\n",
       "    }\n",
       "</style>\n",
       "<table border=\"1\" class=\"dataframe\">\n",
       "  <thead>\n",
       "    <tr style=\"text-align: right;\">\n",
       "      <th></th>\n",
       "      <th>City_ID</th>\n",
       "      <th>City</th>\n",
       "      <th>Country</th>\n",
       "      <th>Date</th>\n",
       "      <th>Lat</th>\n",
       "      <th>Lng</th>\n",
       "      <th>Max Temp</th>\n",
       "      <th>Humidity</th>\n",
       "      <th>Cloudiness</th>\n",
       "      <th>Wind Speed</th>\n",
       "    </tr>\n",
       "  </thead>\n",
       "  <tbody>\n",
       "    <tr>\n",
       "      <th>0</th>\n",
       "      <td>0</td>\n",
       "      <td>Kupang</td>\n",
       "      <td>ID</td>\n",
       "      <td>2022-01-30 16:05:19</td>\n",
       "      <td>-10.1667</td>\n",
       "      <td>123.5833</td>\n",
       "      <td>79.99</td>\n",
       "      <td>85</td>\n",
       "      <td>100</td>\n",
       "      <td>13.51</td>\n",
       "    </tr>\n",
       "    <tr>\n",
       "      <th>1</th>\n",
       "      <td>1</td>\n",
       "      <td>Abong Mbang</td>\n",
       "      <td>CM</td>\n",
       "      <td>2022-01-30 16:10:16</td>\n",
       "      <td>3.9833</td>\n",
       "      <td>13.1833</td>\n",
       "      <td>92.08</td>\n",
       "      <td>14</td>\n",
       "      <td>87</td>\n",
       "      <td>3.65</td>\n",
       "    </tr>\n",
       "    <tr>\n",
       "      <th>2</th>\n",
       "      <td>2</td>\n",
       "      <td>Waddan</td>\n",
       "      <td>LY</td>\n",
       "      <td>2022-01-30 16:10:17</td>\n",
       "      <td>29.1614</td>\n",
       "      <td>16.1390</td>\n",
       "      <td>54.59</td>\n",
       "      <td>43</td>\n",
       "      <td>29</td>\n",
       "      <td>13.80</td>\n",
       "    </tr>\n",
       "    <tr>\n",
       "      <th>3</th>\n",
       "      <td>3</td>\n",
       "      <td>Busselton</td>\n",
       "      <td>AU</td>\n",
       "      <td>2022-01-30 16:11:03</td>\n",
       "      <td>-33.6500</td>\n",
       "      <td>115.3333</td>\n",
       "      <td>66.09</td>\n",
       "      <td>76</td>\n",
       "      <td>0</td>\n",
       "      <td>18.14</td>\n",
       "    </tr>\n",
       "    <tr>\n",
       "      <th>4</th>\n",
       "      <td>4</td>\n",
       "      <td>Puerto Carreno</td>\n",
       "      <td>CO</td>\n",
       "      <td>2022-01-30 16:10:04</td>\n",
       "      <td>6.1890</td>\n",
       "      <td>-67.4859</td>\n",
       "      <td>91.36</td>\n",
       "      <td>31</td>\n",
       "      <td>71</td>\n",
       "      <td>13.62</td>\n",
       "    </tr>\n",
       "  </tbody>\n",
       "</table>\n",
       "</div>"
      ],
      "text/plain": [
       "   City_ID            City Country                 Date      Lat       Lng  \\\n",
       "0        0          Kupang      ID  2022-01-30 16:05:19 -10.1667  123.5833   \n",
       "1        1     Abong Mbang      CM  2022-01-30 16:10:16   3.9833   13.1833   \n",
       "2        2          Waddan      LY  2022-01-30 16:10:17  29.1614   16.1390   \n",
       "3        3       Busselton      AU  2022-01-30 16:11:03 -33.6500  115.3333   \n",
       "4        4  Puerto Carreno      CO  2022-01-30 16:10:04   6.1890  -67.4859   \n",
       "\n",
       "   Max Temp  Humidity  Cloudiness  Wind Speed  \n",
       "0     79.99        85         100       13.51  \n",
       "1     92.08        14          87        3.65  \n",
       "2     54.59        43          29       13.80  \n",
       "3     66.09        76           0       18.14  \n",
       "4     91.36        31          71       13.62  "
      ]
     },
     "execution_count": 8,
     "metadata": {},
     "output_type": "execute_result"
    }
   ],
   "source": [
    "city_data_df = pd.read_csv(\"weather_data/cities.csv\")\n",
    "city_data_df.head()"
   ]
  },
  {
   "cell_type": "code",
   "execution_count": 9,
   "id": "0853b71f",
   "metadata": {},
   "outputs": [
    {
     "data": {
      "text/plain": [
       "City_ID         int64\n",
       "City           object\n",
       "Country        object\n",
       "Date           object\n",
       "Lat           float64\n",
       "Lng           float64\n",
       "Max Temp      float64\n",
       "Humidity        int64\n",
       "Cloudiness      int64\n",
       "Wind Speed    float64\n",
       "dtype: object"
      ]
     },
     "execution_count": 9,
     "metadata": {},
     "output_type": "execute_result"
    }
   ],
   "source": [
    "city_data_df.dtypes"
   ]
  },
  {
   "cell_type": "code",
   "execution_count": 10,
   "id": "c43c2579",
   "metadata": {},
   "outputs": [],
   "source": [
    "#Configure gmaps to use your Google API key\n",
    "gmaps.configure(api_key=g_key)"
   ]
  },
  {
   "cell_type": "code",
   "execution_count": 19,
   "id": "32b08dfb",
   "metadata": {},
   "outputs": [
    {
     "data": {
      "application/vnd.jupyter.widget-view+json": {
       "model_id": "060f497d3dc34be59984e367f4d5e532",
       "version_major": 2,
       "version_minor": 0
      },
      "text/plain": [
       "Figure(layout=FigureLayout(height='420px'))"
      ]
     },
     "metadata": {},
     "output_type": "display_data"
    }
   ],
   "source": [
    "#Heat map of tempurature\n",
    "#Get the lat lng\n",
    "locations = city_data_df[[\"Lat\", \"Lng\"]]\n",
    "#Get the max temp\n",
    "max_temp = city_data_df[\"Max Temp\"]\n",
    "#If temp is less than 0, make 0\n",
    "temps = []\n",
    "for temp in max_temp:\n",
    "    temps.append(max(temp, 0))\n",
    "#Assign figure variable\n",
    "fig = gmaps.figure(center=(30.0, 31.0), zoom_level=1.3)\n",
    "#Assign the heatmap variable\n",
    "heat_layer = gmaps.heatmap_layer(locations, weights=[max(temp, 0) for temp in temps],\n",
    "                                dissipating=False, max_intensity=300, point_radius=4)\n",
    "#Add heatmap layer\n",
    "fig.add_layer(heat_layer)\n",
    "#Call the figure to plot the data\n",
    "fig"
   ]
  },
  {
   "cell_type": "code",
   "execution_count": 21,
   "id": "90197875",
   "metadata": {},
   "outputs": [
    {
     "data": {
      "application/vnd.jupyter.widget-view+json": {
       "model_id": "ff599640cb9848499bad370999ef2a2d",
       "version_major": 2,
       "version_minor": 0
      },
      "text/plain": [
       "Figure(layout=FigureLayout(height='420px'))"
      ]
     },
     "metadata": {},
     "output_type": "display_data"
    }
   ],
   "source": [
    "#Heatmap of percent humidity\n",
    "locations = city_data_df[[\"Lat\", \"Lng\"]]\n",
    "humidity = city_data_df[\"Humidity\"]\n",
    "fig = gmaps.figure(center=(30.0, 31.0), zoom_level=1.3)\n",
    "heat_layer = gmaps.heatmap_layer(locations, weights=humidity, dissipating=False, max_intensity=300, point_radius=4)\n",
    "fig.add_layer(heat_layer)\n",
    "fig"
   ]
  },
  {
   "cell_type": "code",
   "execution_count": 23,
   "id": "857cdabd",
   "metadata": {},
   "outputs": [
    {
     "data": {
      "application/vnd.jupyter.widget-view+json": {
       "model_id": "f729802d5a67471daaa9a1cd058b725d",
       "version_major": 2,
       "version_minor": 0
      },
      "text/plain": [
       "Figure(layout=FigureLayout(height='420px'))"
      ]
     },
     "metadata": {},
     "output_type": "display_data"
    }
   ],
   "source": [
    "#Heatmap for cloudiness\n",
    "locations = city_data_df[[\"Lat\", \"Lng\"]]\n",
    "clouds = city_data_df[\"Cloudiness\"]\n",
    "fig = gmaps.figure(center=(30.00, 31.0), zoom_level=1.3)\n",
    "heat_layer = gmaps.heatmap_layer(locations, weights=clouds, dissipating=False, max_intensity=300, point_radius=4)\n",
    "fig.add_layer(heat_layer)\n",
    "fig"
   ]
  },
  {
   "cell_type": "code",
   "execution_count": 24,
   "id": "7465d801",
   "metadata": {},
   "outputs": [
    {
     "data": {
      "application/vnd.jupyter.widget-view+json": {
       "model_id": "44694e1c61be4aa197a7cec80c3e82a4",
       "version_major": 2,
       "version_minor": 0
      },
      "text/plain": [
       "Figure(layout=FigureLayout(height='420px'))"
      ]
     },
     "metadata": {},
     "output_type": "display_data"
    }
   ],
   "source": [
    "#Heatmap for wind speed\n",
    "locations = city_data_df[[\"Lat\", \"Lng\"]]\n",
    "winds = city_data_df[\"Wind Speed\"]\n",
    "fig = gmaps.figure(center=(30.00, 31.0), zoom_level=1.3)\n",
    "heat_layer = gmaps.heatmap_layer(locations, weights=winds, dissipating=False, max_intensity=300, point_radius=4)\n",
    "fig.add_layer(heat_layer)\n",
    "fig"
   ]
  },
  {
   "cell_type": "code",
   "execution_count": 25,
   "id": "766f207a",
   "metadata": {},
   "outputs": [
    {
     "name": "stdout",
     "output_type": "stream",
     "text": [
      "What is the minimum tempurature you would like for your trip?75\n",
      "What is the maximum tempurature you would like for your trip?90\n"
     ]
    }
   ],
   "source": [
    "#Ask customers to add min and max temps for vacation\n",
    "min_temp = float(input(\"What is the minimum tempurature you would like for your trip?\"))\n",
    "max_temp = float(input(\"What is the maximum tempurature you would like for your trip?\"))"
   ]
  },
  {
   "cell_type": "code",
   "execution_count": 33,
   "id": "9c77ab21",
   "metadata": {},
   "outputs": [
    {
     "data": {
      "text/html": [
       "<div>\n",
       "<style scoped>\n",
       "    .dataframe tbody tr th:only-of-type {\n",
       "        vertical-align: middle;\n",
       "    }\n",
       "\n",
       "    .dataframe tbody tr th {\n",
       "        vertical-align: top;\n",
       "    }\n",
       "\n",
       "    .dataframe thead th {\n",
       "        text-align: right;\n",
       "    }\n",
       "</style>\n",
       "<table border=\"1\" class=\"dataframe\">\n",
       "  <thead>\n",
       "    <tr style=\"text-align: right;\">\n",
       "      <th></th>\n",
       "      <th>City_ID</th>\n",
       "      <th>City</th>\n",
       "      <th>Country</th>\n",
       "      <th>Date</th>\n",
       "      <th>Lat</th>\n",
       "      <th>Lng</th>\n",
       "      <th>Max Temp</th>\n",
       "      <th>Humidity</th>\n",
       "      <th>Cloudiness</th>\n",
       "      <th>Wind Speed</th>\n",
       "    </tr>\n",
       "  </thead>\n",
       "  <tbody>\n",
       "    <tr>\n",
       "      <th>0</th>\n",
       "      <td>0</td>\n",
       "      <td>Kupang</td>\n",
       "      <td>ID</td>\n",
       "      <td>2022-01-30 16:05:19</td>\n",
       "      <td>-10.1667</td>\n",
       "      <td>123.5833</td>\n",
       "      <td>79.99</td>\n",
       "      <td>85</td>\n",
       "      <td>100</td>\n",
       "      <td>13.51</td>\n",
       "    </tr>\n",
       "    <tr>\n",
       "      <th>6</th>\n",
       "      <td>6</td>\n",
       "      <td>Tessalit</td>\n",
       "      <td>ML</td>\n",
       "      <td>2022-01-30 16:10:18</td>\n",
       "      <td>20.1986</td>\n",
       "      <td>1.0114</td>\n",
       "      <td>84.20</td>\n",
       "      <td>10</td>\n",
       "      <td>4</td>\n",
       "      <td>13.91</td>\n",
       "    </tr>\n",
       "    <tr>\n",
       "      <th>8</th>\n",
       "      <td>8</td>\n",
       "      <td>Georgetown</td>\n",
       "      <td>MY</td>\n",
       "      <td>2022-01-30 16:08:59</td>\n",
       "      <td>5.4112</td>\n",
       "      <td>100.3354</td>\n",
       "      <td>84.13</td>\n",
       "      <td>80</td>\n",
       "      <td>20</td>\n",
       "      <td>0.00</td>\n",
       "    </tr>\n",
       "    <tr>\n",
       "      <th>10</th>\n",
       "      <td>10</td>\n",
       "      <td>Bredasdorp</td>\n",
       "      <td>ZA</td>\n",
       "      <td>2022-01-30 16:10:20</td>\n",
       "      <td>-34.5322</td>\n",
       "      <td>20.0403</td>\n",
       "      <td>80.28</td>\n",
       "      <td>64</td>\n",
       "      <td>8</td>\n",
       "      <td>17.11</td>\n",
       "    </tr>\n",
       "    <tr>\n",
       "      <th>13</th>\n",
       "      <td>13</td>\n",
       "      <td>Bambous Virieux</td>\n",
       "      <td>MU</td>\n",
       "      <td>2022-01-30 16:08:39</td>\n",
       "      <td>-20.3428</td>\n",
       "      <td>57.7575</td>\n",
       "      <td>81.21</td>\n",
       "      <td>78</td>\n",
       "      <td>48</td>\n",
       "      <td>18.01</td>\n",
       "    </tr>\n",
       "    <tr>\n",
       "      <th>...</th>\n",
       "      <td>...</td>\n",
       "      <td>...</td>\n",
       "      <td>...</td>\n",
       "      <td>...</td>\n",
       "      <td>...</td>\n",
       "      <td>...</td>\n",
       "      <td>...</td>\n",
       "      <td>...</td>\n",
       "      <td>...</td>\n",
       "      <td>...</td>\n",
       "    </tr>\n",
       "    <tr>\n",
       "      <th>557</th>\n",
       "      <td>557</td>\n",
       "      <td>Pundaguitan</td>\n",
       "      <td>PH</td>\n",
       "      <td>2022-01-30 16:26:37</td>\n",
       "      <td>6.3711</td>\n",
       "      <td>126.1689</td>\n",
       "      <td>80.71</td>\n",
       "      <td>79</td>\n",
       "      <td>24</td>\n",
       "      <td>12.01</td>\n",
       "    </tr>\n",
       "    <tr>\n",
       "      <th>561</th>\n",
       "      <td>561</td>\n",
       "      <td>Palu</td>\n",
       "      <td>ID</td>\n",
       "      <td>2022-01-30 16:26:39</td>\n",
       "      <td>-0.8917</td>\n",
       "      <td>119.8707</td>\n",
       "      <td>76.46</td>\n",
       "      <td>95</td>\n",
       "      <td>100</td>\n",
       "      <td>1.36</td>\n",
       "    </tr>\n",
       "    <tr>\n",
       "      <th>562</th>\n",
       "      <td>562</td>\n",
       "      <td>Gigmoto</td>\n",
       "      <td>PH</td>\n",
       "      <td>2022-01-30 16:26:39</td>\n",
       "      <td>13.7796</td>\n",
       "      <td>124.3900</td>\n",
       "      <td>76.05</td>\n",
       "      <td>90</td>\n",
       "      <td>30</td>\n",
       "      <td>2.55</td>\n",
       "    </tr>\n",
       "    <tr>\n",
       "      <th>568</th>\n",
       "      <td>568</td>\n",
       "      <td>Kendari</td>\n",
       "      <td>ID</td>\n",
       "      <td>2022-01-30 16:26:42</td>\n",
       "      <td>-3.9450</td>\n",
       "      <td>122.4989</td>\n",
       "      <td>78.62</td>\n",
       "      <td>85</td>\n",
       "      <td>79</td>\n",
       "      <td>3.56</td>\n",
       "    </tr>\n",
       "    <tr>\n",
       "      <th>570</th>\n",
       "      <td>570</td>\n",
       "      <td>San Juan De Uraba</td>\n",
       "      <td>CO</td>\n",
       "      <td>2022-01-30 16:26:42</td>\n",
       "      <td>8.7592</td>\n",
       "      <td>-76.5297</td>\n",
       "      <td>79.11</td>\n",
       "      <td>76</td>\n",
       "      <td>88</td>\n",
       "      <td>10.76</td>\n",
       "    </tr>\n",
       "  </tbody>\n",
       "</table>\n",
       "<p>159 rows × 10 columns</p>\n",
       "</div>"
      ],
      "text/plain": [
       "     City_ID               City Country                 Date      Lat  \\\n",
       "0          0             Kupang      ID  2022-01-30 16:05:19 -10.1667   \n",
       "6          6           Tessalit      ML  2022-01-30 16:10:18  20.1986   \n",
       "8          8         Georgetown      MY  2022-01-30 16:08:59   5.4112   \n",
       "10        10         Bredasdorp      ZA  2022-01-30 16:10:20 -34.5322   \n",
       "13        13    Bambous Virieux      MU  2022-01-30 16:08:39 -20.3428   \n",
       "..       ...                ...     ...                  ...      ...   \n",
       "557      557        Pundaguitan      PH  2022-01-30 16:26:37   6.3711   \n",
       "561      561               Palu      ID  2022-01-30 16:26:39  -0.8917   \n",
       "562      562            Gigmoto      PH  2022-01-30 16:26:39  13.7796   \n",
       "568      568            Kendari      ID  2022-01-30 16:26:42  -3.9450   \n",
       "570      570  San Juan De Uraba      CO  2022-01-30 16:26:42   8.7592   \n",
       "\n",
       "          Lng  Max Temp  Humidity  Cloudiness  Wind Speed  \n",
       "0    123.5833     79.99        85         100       13.51  \n",
       "6      1.0114     84.20        10           4       13.91  \n",
       "8    100.3354     84.13        80          20        0.00  \n",
       "10    20.0403     80.28        64           8       17.11  \n",
       "13    57.7575     81.21        78          48       18.01  \n",
       "..        ...       ...       ...         ...         ...  \n",
       "557  126.1689     80.71        79          24       12.01  \n",
       "561  119.8707     76.46        95         100        1.36  \n",
       "562  124.3900     76.05        90          30        2.55  \n",
       "568  122.4989     78.62        85          79        3.56  \n",
       "570  -76.5297     79.11        76          88       10.76  \n",
       "\n",
       "[159 rows x 10 columns]"
      ]
     },
     "execution_count": 33,
     "metadata": {},
     "output_type": "execute_result"
    }
   ],
   "source": [
    "#filter data set to find optimal cities for the customer\n",
    "preferred_cities_df = city_data_df.loc[(city_data_df[\"Max Temp\"] <= max_temp) & (city_data_df[\"Max Temp\"] >= min_temp)]\n",
    "preferred_cities_df"
   ]
  },
  {
   "cell_type": "code",
   "execution_count": 34,
   "id": "21f78209",
   "metadata": {},
   "outputs": [
    {
     "data": {
      "text/plain": [
       "City_ID       0\n",
       "City          0\n",
       "Country       2\n",
       "Date          0\n",
       "Lat           0\n",
       "Lng           0\n",
       "Max Temp      0\n",
       "Humidity      0\n",
       "Cloudiness    0\n",
       "Wind Speed    0\n",
       "dtype: int64"
      ]
     },
     "execution_count": 34,
     "metadata": {},
     "output_type": "execute_result"
    }
   ],
   "source": [
    "preferred_cities_df.isnull().sum()"
   ]
  },
  {
   "cell_type": "code",
   "execution_count": 35,
   "id": "2c966ed0",
   "metadata": {},
   "outputs": [
    {
     "data": {
      "text/plain": [
       "City_ID       159\n",
       "City          159\n",
       "Country       157\n",
       "Date          159\n",
       "Lat           159\n",
       "Lng           159\n",
       "Max Temp      159\n",
       "Humidity      159\n",
       "Cloudiness    159\n",
       "Wind Speed    159\n",
       "dtype: int64"
      ]
     },
     "execution_count": 35,
     "metadata": {},
     "output_type": "execute_result"
    }
   ],
   "source": [
    "preferred_cities_df.count()"
   ]
  },
  {
   "cell_type": "code",
   "execution_count": 36,
   "id": "863fbb66",
   "metadata": {},
   "outputs": [],
   "source": [
    "preferred_cities_df = preferred_cities_df.dropna()"
   ]
  },
  {
   "cell_type": "code",
   "execution_count": 37,
   "id": "e771527b",
   "metadata": {},
   "outputs": [
    {
     "data": {
      "text/plain": [
       "City_ID       0\n",
       "City          0\n",
       "Country       0\n",
       "Date          0\n",
       "Lat           0\n",
       "Lng           0\n",
       "Max Temp      0\n",
       "Humidity      0\n",
       "Cloudiness    0\n",
       "Wind Speed    0\n",
       "dtype: int64"
      ]
     },
     "execution_count": 37,
     "metadata": {},
     "output_type": "execute_result"
    }
   ],
   "source": [
    "preferred_cities_df.isnull().sum()"
   ]
  },
  {
   "cell_type": "code",
   "execution_count": 70,
   "id": "e5f1b521",
   "metadata": {},
   "outputs": [
    {
     "data": {
      "text/html": [
       "<div>\n",
       "<style scoped>\n",
       "    .dataframe tbody tr th:only-of-type {\n",
       "        vertical-align: middle;\n",
       "    }\n",
       "\n",
       "    .dataframe tbody tr th {\n",
       "        vertical-align: top;\n",
       "    }\n",
       "\n",
       "    .dataframe thead th {\n",
       "        text-align: right;\n",
       "    }\n",
       "</style>\n",
       "<table border=\"1\" class=\"dataframe\">\n",
       "  <thead>\n",
       "    <tr style=\"text-align: right;\">\n",
       "      <th></th>\n",
       "      <th>City</th>\n",
       "      <th>Country</th>\n",
       "      <th>Max Temp</th>\n",
       "      <th>Lat</th>\n",
       "      <th>Lng</th>\n",
       "      <th>Hotel Name</th>\n",
       "    </tr>\n",
       "  </thead>\n",
       "  <tbody>\n",
       "    <tr>\n",
       "      <th>0</th>\n",
       "      <td>Kupang</td>\n",
       "      <td>ID</td>\n",
       "      <td>79.99</td>\n",
       "      <td>-10.1667</td>\n",
       "      <td>123.5833</td>\n",
       "      <td></td>\n",
       "    </tr>\n",
       "    <tr>\n",
       "      <th>6</th>\n",
       "      <td>Tessalit</td>\n",
       "      <td>ML</td>\n",
       "      <td>84.20</td>\n",
       "      <td>20.1986</td>\n",
       "      <td>1.0114</td>\n",
       "      <td></td>\n",
       "    </tr>\n",
       "    <tr>\n",
       "      <th>8</th>\n",
       "      <td>Georgetown</td>\n",
       "      <td>MY</td>\n",
       "      <td>84.13</td>\n",
       "      <td>5.4112</td>\n",
       "      <td>100.3354</td>\n",
       "      <td></td>\n",
       "    </tr>\n",
       "    <tr>\n",
       "      <th>10</th>\n",
       "      <td>Bredasdorp</td>\n",
       "      <td>ZA</td>\n",
       "      <td>80.28</td>\n",
       "      <td>-34.5322</td>\n",
       "      <td>20.0403</td>\n",
       "      <td></td>\n",
       "    </tr>\n",
       "    <tr>\n",
       "      <th>13</th>\n",
       "      <td>Bambous Virieux</td>\n",
       "      <td>MU</td>\n",
       "      <td>81.21</td>\n",
       "      <td>-20.3428</td>\n",
       "      <td>57.7575</td>\n",
       "      <td></td>\n",
       "    </tr>\n",
       "    <tr>\n",
       "      <th>...</th>\n",
       "      <td>...</td>\n",
       "      <td>...</td>\n",
       "      <td>...</td>\n",
       "      <td>...</td>\n",
       "      <td>...</td>\n",
       "      <td>...</td>\n",
       "    </tr>\n",
       "    <tr>\n",
       "      <th>557</th>\n",
       "      <td>Pundaguitan</td>\n",
       "      <td>PH</td>\n",
       "      <td>80.71</td>\n",
       "      <td>6.3711</td>\n",
       "      <td>126.1689</td>\n",
       "      <td></td>\n",
       "    </tr>\n",
       "    <tr>\n",
       "      <th>561</th>\n",
       "      <td>Palu</td>\n",
       "      <td>ID</td>\n",
       "      <td>76.46</td>\n",
       "      <td>-0.8917</td>\n",
       "      <td>119.8707</td>\n",
       "      <td></td>\n",
       "    </tr>\n",
       "    <tr>\n",
       "      <th>562</th>\n",
       "      <td>Gigmoto</td>\n",
       "      <td>PH</td>\n",
       "      <td>76.05</td>\n",
       "      <td>13.7796</td>\n",
       "      <td>124.3900</td>\n",
       "      <td></td>\n",
       "    </tr>\n",
       "    <tr>\n",
       "      <th>568</th>\n",
       "      <td>Kendari</td>\n",
       "      <td>ID</td>\n",
       "      <td>78.62</td>\n",
       "      <td>-3.9450</td>\n",
       "      <td>122.4989</td>\n",
       "      <td></td>\n",
       "    </tr>\n",
       "    <tr>\n",
       "      <th>570</th>\n",
       "      <td>San Juan De Uraba</td>\n",
       "      <td>CO</td>\n",
       "      <td>79.11</td>\n",
       "      <td>8.7592</td>\n",
       "      <td>-76.5297</td>\n",
       "      <td></td>\n",
       "    </tr>\n",
       "  </tbody>\n",
       "</table>\n",
       "<p>157 rows × 6 columns</p>\n",
       "</div>"
      ],
      "text/plain": [
       "                  City Country  Max Temp      Lat       Lng Hotel Name\n",
       "0               Kupang      ID     79.99 -10.1667  123.5833           \n",
       "6             Tessalit      ML     84.20  20.1986    1.0114           \n",
       "8           Georgetown      MY     84.13   5.4112  100.3354           \n",
       "10          Bredasdorp      ZA     80.28 -34.5322   20.0403           \n",
       "13     Bambous Virieux      MU     81.21 -20.3428   57.7575           \n",
       "..                 ...     ...       ...      ...       ...        ...\n",
       "557        Pundaguitan      PH     80.71   6.3711  126.1689           \n",
       "561               Palu      ID     76.46  -0.8917  119.8707           \n",
       "562            Gigmoto      PH     76.05  13.7796  124.3900           \n",
       "568            Kendari      ID     78.62  -3.9450  122.4989           \n",
       "570  San Juan De Uraba      CO     79.11   8.7592  -76.5297           \n",
       "\n",
       "[157 rows x 6 columns]"
      ]
     },
     "execution_count": 70,
     "metadata": {},
     "output_type": "execute_result"
    }
   ],
   "source": [
    "#Create new data frame\n",
    "hotel_df = preferred_cities_df[[\"City\", \"Country\", \"Max Temp\", \"Lat\", \"Lng\"]].copy()\n",
    "hotel_df[\"Hotel Name\"] = \" \"\n",
    "hotel_df"
   ]
  },
  {
   "cell_type": "code",
   "execution_count": 71,
   "id": "a8201cf0",
   "metadata": {},
   "outputs": [],
   "source": [
    "params = {\n",
    "    \"radius\": 5000,\n",
    "    \"types\": \"lodging\",\n",
    "    \"key\": g_key}"
   ]
  },
  {
   "cell_type": "code",
   "execution_count": 72,
   "id": "059e42cc",
   "metadata": {},
   "outputs": [
    {
     "name": "stdout",
     "output_type": "stream",
     "text": [
      "Hotel not found...skipping.\n",
      "Hotel not found...skipping.\n",
      "Hotel not found...skipping.\n",
      "Hotel not found...skipping.\n",
      "Hotel not found...skipping.\n",
      "Hotel not found...skipping.\n",
      "Hotel not found...skipping.\n",
      "Hotel not found...skipping.\n",
      "Hotel not found...skipping.\n",
      "Hotel not found...skipping.\n",
      "Hotel not found...skipping.\n",
      "Hotel not found...skipping.\n",
      "Hotel not found...skipping.\n",
      "Hotel not found...skipping.\n",
      "Hotel not found...skipping.\n"
     ]
    }
   ],
   "source": [
    "# Iterate through the DataFrame\n",
    "for index, row in hotel_df.iterrows():\n",
    "    # Get the latitude and longitude\n",
    "    lat = row[\"Lat\"]\n",
    "    lng = row[\"Lng\"]\n",
    "    # Add the latitude and longitude to location key for the params\n",
    "    params[\"location\"] = f\"{lat},{lng}\"\n",
    "    # Use the search term: \"lodging\" and our latitude and longitude\n",
    "    base_url = \"https://maps.googleapis.com/maps/api/place/nearbysearch/json?params\"\n",
    "    # Make request and get the JSON data from the search\n",
    "    hotels = requests.get(base_url, params=params).json()\n",
    "    #Grab first result and put in data frame\n",
    "    try:\n",
    "        hotel_df.loc[index, \"Hotel Name\"] = hotels[\"results\"][0][\"name\"]\n",
    "    except (IndexError):\n",
    "        print(\"Hotel not found...skipping.\")"
   ]
  },
  {
   "cell_type": "code",
   "execution_count": 73,
   "id": "3fc64f86",
   "metadata": {},
   "outputs": [
    {
     "data": {
      "text/html": [
       "<div>\n",
       "<style scoped>\n",
       "    .dataframe tbody tr th:only-of-type {\n",
       "        vertical-align: middle;\n",
       "    }\n",
       "\n",
       "    .dataframe tbody tr th {\n",
       "        vertical-align: top;\n",
       "    }\n",
       "\n",
       "    .dataframe thead th {\n",
       "        text-align: right;\n",
       "    }\n",
       "</style>\n",
       "<table border=\"1\" class=\"dataframe\">\n",
       "  <thead>\n",
       "    <tr style=\"text-align: right;\">\n",
       "      <th></th>\n",
       "      <th>City</th>\n",
       "      <th>Country</th>\n",
       "      <th>Max Temp</th>\n",
       "      <th>Lat</th>\n",
       "      <th>Lng</th>\n",
       "      <th>Hotel Name</th>\n",
       "    </tr>\n",
       "  </thead>\n",
       "  <tbody>\n",
       "    <tr>\n",
       "      <th>0</th>\n",
       "      <td>Kupang</td>\n",
       "      <td>ID</td>\n",
       "      <td>79.99</td>\n",
       "      <td>-10.1667</td>\n",
       "      <td>123.5833</td>\n",
       "      <td>Hotel On The Rock by Prasanthi</td>\n",
       "    </tr>\n",
       "    <tr>\n",
       "      <th>6</th>\n",
       "      <td>Tessalit</td>\n",
       "      <td>ML</td>\n",
       "      <td>84.20</td>\n",
       "      <td>20.1986</td>\n",
       "      <td>1.0114</td>\n",
       "      <td></td>\n",
       "    </tr>\n",
       "    <tr>\n",
       "      <th>8</th>\n",
       "      <td>Georgetown</td>\n",
       "      <td>MY</td>\n",
       "      <td>84.13</td>\n",
       "      <td>5.4112</td>\n",
       "      <td>100.3354</td>\n",
       "      <td>Cititel Penang</td>\n",
       "    </tr>\n",
       "    <tr>\n",
       "      <th>10</th>\n",
       "      <td>Bredasdorp</td>\n",
       "      <td>ZA</td>\n",
       "      <td>80.28</td>\n",
       "      <td>-34.5322</td>\n",
       "      <td>20.0403</td>\n",
       "      <td>Bredasdorp Country Manor</td>\n",
       "    </tr>\n",
       "    <tr>\n",
       "      <th>13</th>\n",
       "      <td>Bambous Virieux</td>\n",
       "      <td>MU</td>\n",
       "      <td>81.21</td>\n",
       "      <td>-20.3428</td>\n",
       "      <td>57.7575</td>\n",
       "      <td>Casa Tia Villa</td>\n",
       "    </tr>\n",
       "    <tr>\n",
       "      <th>...</th>\n",
       "      <td>...</td>\n",
       "      <td>...</td>\n",
       "      <td>...</td>\n",
       "      <td>...</td>\n",
       "      <td>...</td>\n",
       "      <td>...</td>\n",
       "    </tr>\n",
       "    <tr>\n",
       "      <th>557</th>\n",
       "      <td>Pundaguitan</td>\n",
       "      <td>PH</td>\n",
       "      <td>80.71</td>\n",
       "      <td>6.3711</td>\n",
       "      <td>126.1689</td>\n",
       "      <td>Leonardo Family Beach House 1</td>\n",
       "    </tr>\n",
       "    <tr>\n",
       "      <th>561</th>\n",
       "      <td>Palu</td>\n",
       "      <td>ID</td>\n",
       "      <td>76.46</td>\n",
       "      <td>-0.8917</td>\n",
       "      <td>119.8707</td>\n",
       "      <td>Hotel Santika Palu</td>\n",
       "    </tr>\n",
       "    <tr>\n",
       "      <th>562</th>\n",
       "      <td>Gigmoto</td>\n",
       "      <td>PH</td>\n",
       "      <td>76.05</td>\n",
       "      <td>13.7796</td>\n",
       "      <td>124.3900</td>\n",
       "      <td>Cj's Travellers Inn</td>\n",
       "    </tr>\n",
       "    <tr>\n",
       "      <th>568</th>\n",
       "      <td>Kendari</td>\n",
       "      <td>ID</td>\n",
       "      <td>78.62</td>\n",
       "      <td>-3.9450</td>\n",
       "      <td>122.4989</td>\n",
       "      <td>Hotel Wixel</td>\n",
       "    </tr>\n",
       "    <tr>\n",
       "      <th>570</th>\n",
       "      <td>San Juan De Uraba</td>\n",
       "      <td>CO</td>\n",
       "      <td>79.11</td>\n",
       "      <td>8.7592</td>\n",
       "      <td>-76.5297</td>\n",
       "      <td>Hotel Cerro De Zumba</td>\n",
       "    </tr>\n",
       "  </tbody>\n",
       "</table>\n",
       "<p>157 rows × 6 columns</p>\n",
       "</div>"
      ],
      "text/plain": [
       "                  City Country  Max Temp      Lat       Lng  \\\n",
       "0               Kupang      ID     79.99 -10.1667  123.5833   \n",
       "6             Tessalit      ML     84.20  20.1986    1.0114   \n",
       "8           Georgetown      MY     84.13   5.4112  100.3354   \n",
       "10          Bredasdorp      ZA     80.28 -34.5322   20.0403   \n",
       "13     Bambous Virieux      MU     81.21 -20.3428   57.7575   \n",
       "..                 ...     ...       ...      ...       ...   \n",
       "557        Pundaguitan      PH     80.71   6.3711  126.1689   \n",
       "561               Palu      ID     76.46  -0.8917  119.8707   \n",
       "562            Gigmoto      PH     76.05  13.7796  124.3900   \n",
       "568            Kendari      ID     78.62  -3.9450  122.4989   \n",
       "570  San Juan De Uraba      CO     79.11   8.7592  -76.5297   \n",
       "\n",
       "                         Hotel Name  \n",
       "0    Hotel On The Rock by Prasanthi  \n",
       "6                                    \n",
       "8                    Cititel Penang  \n",
       "10         Bredasdorp Country Manor  \n",
       "13                   Casa Tia Villa  \n",
       "..                              ...  \n",
       "557   Leonardo Family Beach House 1  \n",
       "561              Hotel Santika Palu  \n",
       "562             Cj's Travellers Inn  \n",
       "568                     Hotel Wixel  \n",
       "570            Hotel Cerro De Zumba  \n",
       "\n",
       "[157 rows x 6 columns]"
      ]
     },
     "execution_count": 73,
     "metadata": {},
     "output_type": "execute_result"
    }
   ],
   "source": [
    "hotel_df"
   ]
  },
  {
   "cell_type": "code",
   "execution_count": 74,
   "id": "3ef48cdf",
   "metadata": {},
   "outputs": [
    {
     "data": {
      "application/vnd.jupyter.widget-view+json": {
       "model_id": "57afeeeaafca4068939b459dc6ea4a72",
       "version_major": 2,
       "version_minor": 0
      },
      "text/plain": [
       "Figure(layout=FigureLayout(height='420px'))"
      ]
     },
     "metadata": {},
     "output_type": "display_data"
    }
   ],
   "source": [
    "#Heatmap for hotels\n",
    "locations = hotel_df[[\"Lat\", \"Lng\"]]\n",
    "max_temp = hotel_df[\"Max Temp\"]\n",
    "fig = gmaps.figure(center=(30.00, 31.0), zoom_level=1.3)\n",
    "heat_layer = gmaps.heatmap_layer(locations, weights=max_temp, dissipating=False, max_intensity=300, point_radius=4)\n",
    "marker_layer = gmaps.marker_layer(locations)\n",
    "fig.add_layer(heat_layer)\n",
    "fig.add_layer(marker_layer)\n",
    "fig"
   ]
  },
  {
   "cell_type": "code",
   "execution_count": 75,
   "id": "8ca5f1cd",
   "metadata": {},
   "outputs": [],
   "source": [
    "info_box_template = \"\"\"\n",
    "<dl>\n",
    "<dt>Hotel Name</dt><dd>{Hotel Name}</dd>\n",
    "<dt>City</dt><dd>{City}</dd>\n",
    "<dt>Country</dt><dd>{Country}</dd>\n",
    "<dt>Max Temp</dt><dd>{Max Temp} °F</dd>\n",
    "</dl>\n",
    "\"\"\""
   ]
  },
  {
   "cell_type": "code",
   "execution_count": 76,
   "id": "3bb47cd6",
   "metadata": {},
   "outputs": [],
   "source": [
    "#Store the data frame row\n",
    "hotel_info = [info_box_template.format(**row) for index, row in hotel_df.iterrows()]"
   ]
  },
  {
   "cell_type": "code",
   "execution_count": 77,
   "id": "3e9310b6",
   "metadata": {},
   "outputs": [
    {
     "data": {
      "application/vnd.jupyter.widget-view+json": {
       "model_id": "27da2e1583d644abbfbaf11642c7f455",
       "version_major": 2,
       "version_minor": 0
      },
      "text/plain": [
       "Figure(layout=FigureLayout(height='420px'))"
      ]
     },
     "metadata": {},
     "output_type": "display_data"
    }
   ],
   "source": [
    "#Heatmap for hotels with popup boxes\n",
    "locations = hotel_df[[\"Lat\", \"Lng\"]]\n",
    "max_temp = hotel_df[\"Max Temp\"]\n",
    "fig = gmaps.figure(center=(30.00, 31.0), zoom_level=1.3)\n",
    "heat_layer = gmaps.heatmap_layer(locations, weights=max_temp, dissipating=False, max_intensity=300, point_radius=4)\n",
    "marker_layer = gmaps.marker_layer(locations, info_box_content=hotel_info)\n",
    "fig.add_layer(heat_layer)\n",
    "fig.add_layer(marker_layer)\n",
    "fig"
   ]
  },
  {
   "cell_type": "code",
   "execution_count": null,
   "id": "5ae9f1a9",
   "metadata": {},
   "outputs": [],
   "source": []
  }
 ],
 "metadata": {
  "kernelspec": {
   "display_name": "PythonData",
   "language": "python",
   "name": "pythondata"
  },
  "language_info": {
   "codemirror_mode": {
    "name": "ipython",
    "version": 3
   },
   "file_extension": ".py",
   "mimetype": "text/x-python",
   "name": "python",
   "nbconvert_exporter": "python",
   "pygments_lexer": "ipython3",
   "version": "3.7.11"
  }
 },
 "nbformat": 4,
 "nbformat_minor": 5
}
